{
 "cells": [
  {
   "cell_type": "markdown",
   "source": [
    "# What kind of data does pandas handle ?\n",
    "\n",
    "Following [this tutorial](https://pandas.pydata.org/docs/getting_started/intro_tutorials/01_table_oriented.html#min-tut-01-tableoriented).\n",
    "\n",
    "## `DataFrame`"
   ],
   "metadata": {
    "collapsed": false
   }
  },
  {
   "cell_type": "code",
   "execution_count": 36,
   "metadata": {
    "collapsed": true
   },
   "outputs": [],
   "source": [
    "import pandas as pd"
   ]
  },
  {
   "cell_type": "code",
   "execution_count": 37,
   "outputs": [
    {
     "data": {
      "text/plain": "                       Name  Age     Sex\n0   Braund, Mr. Owen Harris   22    male\n1  Allen, Mr. William Henry   35    male\n2  Bonnell, Miss. Elizabeth   58  female",
      "text/html": "<div>\n<style scoped>\n    .dataframe tbody tr th:only-of-type {\n        vertical-align: middle;\n    }\n\n    .dataframe tbody tr th {\n        vertical-align: top;\n    }\n\n    .dataframe thead th {\n        text-align: right;\n    }\n</style>\n<table border=\"1\" class=\"dataframe\">\n  <thead>\n    <tr style=\"text-align: right;\">\n      <th></th>\n      <th>Name</th>\n      <th>Age</th>\n      <th>Sex</th>\n    </tr>\n  </thead>\n  <tbody>\n    <tr>\n      <th>0</th>\n      <td>Braund, Mr. Owen Harris</td>\n      <td>22</td>\n      <td>male</td>\n    </tr>\n    <tr>\n      <th>1</th>\n      <td>Allen, Mr. William Henry</td>\n      <td>35</td>\n      <td>male</td>\n    </tr>\n    <tr>\n      <th>2</th>\n      <td>Bonnell, Miss. Elizabeth</td>\n      <td>58</td>\n      <td>female</td>\n    </tr>\n  </tbody>\n</table>\n</div>"
     },
     "execution_count": 37,
     "metadata": {},
     "output_type": "execute_result"
    }
   ],
   "source": [
    "df = pd.DataFrame(\n",
    "\n",
    "    {\n",
    "\n",
    "        \"Name\": [\n",
    "\n",
    "            \"Braund, Mr. Owen Harris\",\n",
    "\n",
    "            \"Allen, Mr. William Henry\",\n",
    "\n",
    "            \"Bonnell, Miss. Elizabeth\",\n",
    "\n",
    "        ],\n",
    "\n",
    "        \"Age\": [22, 35, 58],\n",
    "\n",
    "        \"Sex\": [\"male\", \"male\", \"female\"],\n",
    "\n",
    "    }\n",
    ")\n",
    "\n",
    "df"
   ],
   "metadata": {
    "collapsed": false
   }
  },
  {
   "cell_type": "markdown",
   "source": [
    "df is a `DataFrame`"
   ],
   "metadata": {
    "collapsed": false
   }
  },
  {
   "cell_type": "code",
   "execution_count": 38,
   "outputs": [
    {
     "data": {
      "text/plain": "pandas.core.frame.DataFrame"
     },
     "execution_count": 38,
     "metadata": {},
     "output_type": "execute_result"
    }
   ],
   "source": [
    "type(df)"
   ],
   "metadata": {
    "collapsed": false
   }
  },
  {
   "cell_type": "markdown",
   "source": [
    "## Series\n",
    "\n",
    "Each column in a `DataFrame` is a `Series`"
   ],
   "metadata": {
    "collapsed": false
   }
  },
  {
   "cell_type": "code",
   "execution_count": 39,
   "outputs": [
    {
     "data": {
      "text/plain": "pandas.core.series.Series"
     },
     "execution_count": 39,
     "metadata": {},
     "output_type": "execute_result"
    }
   ],
   "source": [
    "type(df['Age'])"
   ],
   "metadata": {
    "collapsed": false
   }
  },
  {
   "cell_type": "code",
   "execution_count": 40,
   "outputs": [
    {
     "name": "stdout",
     "output_type": "stream",
     "text": [
      "0    22\n",
      "1    35\n",
      "2    58\n",
      "Name: Age, dtype: int64\n"
     ]
    }
   ],
   "source": [
    "print(df['Age'])"
   ],
   "metadata": {
    "collapsed": false
   }
  },
  {
   "cell_type": "markdown",
   "source": [
    "A `Series` can be created from scratch"
   ],
   "metadata": {
    "collapsed": false
   }
  },
  {
   "cell_type": "code",
   "execution_count": 41,
   "outputs": [
    {
     "data": {
      "text/plain": "0    22\n1    33\n2    56\nName: Size, dtype: int64"
     },
     "execution_count": 41,
     "metadata": {},
     "output_type": "execute_result"
    }
   ],
   "source": [
    "sizes = pd.Series([22, 33, 56], name='Size')\n",
    "sizes"
   ],
   "metadata": {
    "collapsed": false
   }
  },
  {
   "cell_type": "markdown",
   "source": [
    "## Using `DataFrame` and `Series`\n",
    "\n",
    "Getting the max and min of a series"
   ],
   "metadata": {
    "collapsed": false
   }
  },
  {
   "cell_type": "code",
   "execution_count": 42,
   "outputs": [
    {
     "data": {
      "text/plain": "56"
     },
     "execution_count": 42,
     "metadata": {},
     "output_type": "execute_result"
    }
   ],
   "source": [
    "sizes.max()"
   ],
   "metadata": {
    "collapsed": false
   }
  },
  {
   "cell_type": "code",
   "execution_count": 44,
   "outputs": [
    {
     "data": {
      "text/plain": "22"
     },
     "execution_count": 44,
     "metadata": {},
     "output_type": "execute_result"
    }
   ],
   "source": [
    "df['Age'].min()"
   ],
   "metadata": {
    "collapsed": false
   }
  },
  {
   "cell_type": "markdown",
   "source": [
    "Or getting some basic statistics"
   ],
   "metadata": {
    "collapsed": false
   }
  },
  {
   "cell_type": "code",
   "execution_count": 45,
   "outputs": [
    {
     "data": {
      "text/plain": "             Age\ncount   3.000000\nmean   38.333333\nstd    18.230012\nmin    22.000000\n25%    28.500000\n50%    35.000000\n75%    46.500000\nmax    58.000000",
      "text/html": "<div>\n<style scoped>\n    .dataframe tbody tr th:only-of-type {\n        vertical-align: middle;\n    }\n\n    .dataframe tbody tr th {\n        vertical-align: top;\n    }\n\n    .dataframe thead th {\n        text-align: right;\n    }\n</style>\n<table border=\"1\" class=\"dataframe\">\n  <thead>\n    <tr style=\"text-align: right;\">\n      <th></th>\n      <th>Age</th>\n    </tr>\n  </thead>\n  <tbody>\n    <tr>\n      <th>count</th>\n      <td>3.000000</td>\n    </tr>\n    <tr>\n      <th>mean</th>\n      <td>38.333333</td>\n    </tr>\n    <tr>\n      <th>std</th>\n      <td>18.230012</td>\n    </tr>\n    <tr>\n      <th>min</th>\n      <td>22.000000</td>\n    </tr>\n    <tr>\n      <th>25%</th>\n      <td>28.500000</td>\n    </tr>\n    <tr>\n      <th>50%</th>\n      <td>35.000000</td>\n    </tr>\n    <tr>\n      <th>75%</th>\n      <td>46.500000</td>\n    </tr>\n    <tr>\n      <th>max</th>\n      <td>58.000000</td>\n    </tr>\n  </tbody>\n</table>\n</div>"
     },
     "execution_count": 45,
     "metadata": {},
     "output_type": "execute_result"
    }
   ],
   "source": [
    "df.describe()"
   ],
   "metadata": {
    "collapsed": false
   }
  },
  {
   "cell_type": "markdown",
   "source": [
    "## Manipulating a `DataFrame`\n",
    "\n",
    "### Creating a column from an existing one"
   ],
   "metadata": {
    "collapsed": false
   }
  },
  {
   "cell_type": "code",
   "execution_count": 46,
   "outputs": [
    {
     "data": {
      "text/plain": "                       Name  Age     Sex  Until_100\n0   Braund, Mr. Owen Harris   22    male         78\n1  Allen, Mr. William Henry   35    male         65\n2  Bonnell, Miss. Elizabeth   58  female         42",
      "text/html": "<div>\n<style scoped>\n    .dataframe tbody tr th:only-of-type {\n        vertical-align: middle;\n    }\n\n    .dataframe tbody tr th {\n        vertical-align: top;\n    }\n\n    .dataframe thead th {\n        text-align: right;\n    }\n</style>\n<table border=\"1\" class=\"dataframe\">\n  <thead>\n    <tr style=\"text-align: right;\">\n      <th></th>\n      <th>Name</th>\n      <th>Age</th>\n      <th>Sex</th>\n      <th>Until_100</th>\n    </tr>\n  </thead>\n  <tbody>\n    <tr>\n      <th>0</th>\n      <td>Braund, Mr. Owen Harris</td>\n      <td>22</td>\n      <td>male</td>\n      <td>78</td>\n    </tr>\n    <tr>\n      <th>1</th>\n      <td>Allen, Mr. William Henry</td>\n      <td>35</td>\n      <td>male</td>\n      <td>65</td>\n    </tr>\n    <tr>\n      <th>2</th>\n      <td>Bonnell, Miss. Elizabeth</td>\n      <td>58</td>\n      <td>female</td>\n      <td>42</td>\n    </tr>\n  </tbody>\n</table>\n</div>"
     },
     "execution_count": 46,
     "metadata": {},
     "output_type": "execute_result"
    }
   ],
   "source": [
    "df['Until_100'] = 100 - df['Age']\n",
    "\n",
    "df"
   ],
   "metadata": {
    "collapsed": false
   }
  },
  {
   "cell_type": "markdown",
   "source": [
    "Can also be done using the apply method"
   ],
   "metadata": {
    "collapsed": false
   }
  },
  {
   "cell_type": "code",
   "execution_count": 47,
   "outputs": [
    {
     "data": {
      "text/plain": "                       Name  Age     Sex  Until_100  \\\n0   Braund, Mr. Owen Harris   22    male         78   \n1  Allen, Mr. William Henry   35    male         65   \n2  Bonnell, Miss. Elizabeth   58  female         42   \n\n                         Greeting  \n0   Hello Braund, Mr. Owen Harris  \n1  Hello Allen, Mr. William Henry  \n2  Hello Bonnell, Miss. Elizabeth  ",
      "text/html": "<div>\n<style scoped>\n    .dataframe tbody tr th:only-of-type {\n        vertical-align: middle;\n    }\n\n    .dataframe tbody tr th {\n        vertical-align: top;\n    }\n\n    .dataframe thead th {\n        text-align: right;\n    }\n</style>\n<table border=\"1\" class=\"dataframe\">\n  <thead>\n    <tr style=\"text-align: right;\">\n      <th></th>\n      <th>Name</th>\n      <th>Age</th>\n      <th>Sex</th>\n      <th>Until_100</th>\n      <th>Greeting</th>\n    </tr>\n  </thead>\n  <tbody>\n    <tr>\n      <th>0</th>\n      <td>Braund, Mr. Owen Harris</td>\n      <td>22</td>\n      <td>male</td>\n      <td>78</td>\n      <td>Hello Braund, Mr. Owen Harris</td>\n    </tr>\n    <tr>\n      <th>1</th>\n      <td>Allen, Mr. William Henry</td>\n      <td>35</td>\n      <td>male</td>\n      <td>65</td>\n      <td>Hello Allen, Mr. William Henry</td>\n    </tr>\n    <tr>\n      <th>2</th>\n      <td>Bonnell, Miss. Elizabeth</td>\n      <td>58</td>\n      <td>female</td>\n      <td>42</td>\n      <td>Hello Bonnell, Miss. Elizabeth</td>\n    </tr>\n  </tbody>\n</table>\n</div>"
     },
     "execution_count": 47,
     "metadata": {},
     "output_type": "execute_result"
    }
   ],
   "source": [
    "df['Greeting'] = df['Name'].apply(lambda n : 'Hello %s' % n)\n",
    "\n",
    "df"
   ],
   "metadata": {
    "collapsed": false
   }
  }
 ],
 "metadata": {
  "kernelspec": {
   "display_name": "Python 3",
   "language": "python",
   "name": "python3"
  },
  "language_info": {
   "codemirror_mode": {
    "name": "ipython",
    "version": 2
   },
   "file_extension": ".py",
   "mimetype": "text/x-python",
   "name": "python",
   "nbconvert_exporter": "python",
   "pygments_lexer": "ipython2",
   "version": "2.7.6"
  }
 },
 "nbformat": 4,
 "nbformat_minor": 0
}
