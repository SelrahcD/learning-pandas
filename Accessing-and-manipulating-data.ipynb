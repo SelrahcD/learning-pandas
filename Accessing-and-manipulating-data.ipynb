{
 "cells": [
  {
   "cell_type": "markdown",
   "source": [
    "# Accessing and manipulating data\n",
    "\n",
    "Let's learn how to access and manipulate data"
   ],
   "metadata": {
    "collapsed": false
   }
  },
  {
   "cell_type": "markdown",
   "source": [
    "## Create some data"
   ],
   "metadata": {
    "collapsed": false
   }
  },
  {
   "cell_type": "code",
   "execution_count": 101,
   "outputs": [],
   "source": [
    "import numpy as np\n",
    "import pandas as pd"
   ],
   "metadata": {
    "collapsed": false
   }
  },
  {
   "cell_type": "markdown",
   "source": [
    "Let's create a `DatetimeIndex` from Pandas of 8 values."
   ],
   "metadata": {
    "collapsed": false
   }
  },
  {
   "cell_type": "code",
   "execution_count": 102,
   "metadata": {
    "collapsed": true
   },
   "outputs": [
    {
     "name": "stdout",
     "output_type": "stream",
     "text": [
      "<class 'pandas.core.indexes.datetimes.DatetimeIndex'>\n"
     ]
    },
    {
     "data": {
      "text/plain": "DatetimeIndex(['2000-01-01', '2000-01-02', '2000-01-03', '2000-01-04',\n               '2000-01-05', '2000-01-06', '2000-01-07', '2000-01-08'],\n              dtype='datetime64[ns]', freq='D')"
     },
     "execution_count": 102,
     "metadata": {},
     "output_type": "execute_result"
    }
   ],
   "source": [
    "dates = pd.date_range('1/1/2000', periods=8)\n",
    "\n",
    "print(type(dates))\n",
    "\n",
    "dates"
   ]
  },
  {
   "cell_type": "markdown",
   "source": [
    "And generate a `numpy.ndarray` with 4 columns each containing 8 random values."
   ],
   "metadata": {
    "collapsed": false
   }
  },
  {
   "cell_type": "code",
   "execution_count": 103,
   "outputs": [
    {
     "name": "stdout",
     "output_type": "stream",
     "text": [
      "<class 'numpy.ndarray'>\n"
     ]
    },
    {
     "data": {
      "text/plain": "array([[ 0.22301533, -0.91229755, -0.37655895, -0.03156858],\n       [-0.29215726,  0.61006436, -0.4831246 ,  0.66490071],\n       [ 1.29454158,  1.00031224, -1.13127866, -1.10478697],\n       [ 0.52695049, -1.18478426,  1.30233544,  0.4772429 ],\n       [ 0.565327  ,  0.87279109,  0.42421472,  0.42892123],\n       [-0.58958098,  0.78380302, -0.61400988,  1.55201693],\n       [-1.40099747,  0.21238205,  0.70076325,  0.14134093],\n       [-0.5960464 ,  1.17449924, -0.6688395 ,  0.46779946]])"
     },
     "execution_count": 103,
     "metadata": {},
     "output_type": "execute_result"
    }
   ],
   "source": [
    "data = np.random.randn(8, 4)\n",
    "\n",
    "print(type(data))\n",
    "\n",
    "data"
   ],
   "metadata": {
    "collapsed": false
   }
  },
  {
   "cell_type": "markdown",
   "source": [
    "Then create a `DataFrame` with the data, indexed by the `DatetimeIndex` we've created and rename each column"
   ],
   "metadata": {
    "collapsed": false
   }
  },
  {
   "cell_type": "code",
   "execution_count": 104,
   "outputs": [
    {
     "name": "stdout",
     "output_type": "stream",
     "text": [
      "<class 'pandas.core.frame.DataFrame'>\n"
     ]
    },
    {
     "data": {
      "text/plain": "                   A         B         C         D\n2000-01-01  0.223015 -0.912298 -0.376559 -0.031569\n2000-01-02 -0.292157  0.610064 -0.483125  0.664901\n2000-01-03  1.294542  1.000312 -1.131279 -1.104787\n2000-01-04  0.526950 -1.184784  1.302335  0.477243\n2000-01-05  0.565327  0.872791  0.424215  0.428921\n2000-01-06 -0.589581  0.783803 -0.614010  1.552017\n2000-01-07 -1.400997  0.212382  0.700763  0.141341\n2000-01-08 -0.596046  1.174499 -0.668839  0.467799",
      "text/html": "<div>\n<style scoped>\n    .dataframe tbody tr th:only-of-type {\n        vertical-align: middle;\n    }\n\n    .dataframe tbody tr th {\n        vertical-align: top;\n    }\n\n    .dataframe thead th {\n        text-align: right;\n    }\n</style>\n<table border=\"1\" class=\"dataframe\">\n  <thead>\n    <tr style=\"text-align: right;\">\n      <th></th>\n      <th>A</th>\n      <th>B</th>\n      <th>C</th>\n      <th>D</th>\n    </tr>\n  </thead>\n  <tbody>\n    <tr>\n      <th>2000-01-01</th>\n      <td>0.223015</td>\n      <td>-0.912298</td>\n      <td>-0.376559</td>\n      <td>-0.031569</td>\n    </tr>\n    <tr>\n      <th>2000-01-02</th>\n      <td>-0.292157</td>\n      <td>0.610064</td>\n      <td>-0.483125</td>\n      <td>0.664901</td>\n    </tr>\n    <tr>\n      <th>2000-01-03</th>\n      <td>1.294542</td>\n      <td>1.000312</td>\n      <td>-1.131279</td>\n      <td>-1.104787</td>\n    </tr>\n    <tr>\n      <th>2000-01-04</th>\n      <td>0.526950</td>\n      <td>-1.184784</td>\n      <td>1.302335</td>\n      <td>0.477243</td>\n    </tr>\n    <tr>\n      <th>2000-01-05</th>\n      <td>0.565327</td>\n      <td>0.872791</td>\n      <td>0.424215</td>\n      <td>0.428921</td>\n    </tr>\n    <tr>\n      <th>2000-01-06</th>\n      <td>-0.589581</td>\n      <td>0.783803</td>\n      <td>-0.614010</td>\n      <td>1.552017</td>\n    </tr>\n    <tr>\n      <th>2000-01-07</th>\n      <td>-1.400997</td>\n      <td>0.212382</td>\n      <td>0.700763</td>\n      <td>0.141341</td>\n    </tr>\n    <tr>\n      <th>2000-01-08</th>\n      <td>-0.596046</td>\n      <td>1.174499</td>\n      <td>-0.668839</td>\n      <td>0.467799</td>\n    </tr>\n  </tbody>\n</table>\n</div>"
     },
     "execution_count": 104,
     "metadata": {},
     "output_type": "execute_result"
    }
   ],
   "source": [
    "df = pd.DataFrame(data, index=dates, columns= ['A', 'B', 'C', 'D'])\n",
    "\n",
    "print(type(df))\n",
    "\n",
    "df"
   ],
   "metadata": {
    "collapsed": false
   }
  },
  {
   "cell_type": "markdown",
   "source": [
    "## Accessing data\n",
    "\n",
    "### Selecting all data in a column\n",
    "\n",
    "We can access all the data in a column using `[]`. We get a `Series`."
   ],
   "metadata": {
    "collapsed": false
   }
  },
  {
   "cell_type": "code",
   "execution_count": 105,
   "outputs": [
    {
     "name": "stdout",
     "output_type": "stream",
     "text": [
      "<class 'pandas.core.series.Series'>\n"
     ]
    },
    {
     "data": {
      "text/plain": "2000-01-01    0.223015\n2000-01-02   -0.292157\n2000-01-03    1.294542\n2000-01-04    0.526950\n2000-01-05    0.565327\n2000-01-06   -0.589581\n2000-01-07   -1.400997\n2000-01-08   -0.596046\nFreq: D, Name: A, dtype: float64"
     },
     "execution_count": 105,
     "metadata": {},
     "output_type": "execute_result"
    }
   ],
   "source": [
    "s = df['A']\n",
    "\n",
    "print(type(s))\n",
    "\n",
    "s"
   ],
   "metadata": {
    "collapsed": false
   }
  },
  {
   "cell_type": "markdown",
   "source": [
    "## Selecting all data in multiple columns\n",
    "\n",
    "It's also possible to access all the data in multiple column by passing a list of column. In that case we get a `DataFrame`."
   ],
   "metadata": {
    "collapsed": false
   }
  },
  {
   "cell_type": "code",
   "execution_count": 106,
   "outputs": [
    {
     "name": "stdout",
     "output_type": "stream",
     "text": [
      "<class 'list'>\n",
      "<class 'pandas.core.frame.DataFrame'>\n"
     ]
    },
    {
     "data": {
      "text/plain": "                   A         B\n2000-01-01  0.223015 -0.912298\n2000-01-02 -0.292157  0.610064\n2000-01-03  1.294542  1.000312\n2000-01-04  0.526950 -1.184784\n2000-01-05  0.565327  0.872791\n2000-01-06 -0.589581  0.783803\n2000-01-07 -1.400997  0.212382\n2000-01-08 -0.596046  1.174499",
      "text/html": "<div>\n<style scoped>\n    .dataframe tbody tr th:only-of-type {\n        vertical-align: middle;\n    }\n\n    .dataframe tbody tr th {\n        vertical-align: top;\n    }\n\n    .dataframe thead th {\n        text-align: right;\n    }\n</style>\n<table border=\"1\" class=\"dataframe\">\n  <thead>\n    <tr style=\"text-align: right;\">\n      <th></th>\n      <th>A</th>\n      <th>B</th>\n    </tr>\n  </thead>\n  <tbody>\n    <tr>\n      <th>2000-01-01</th>\n      <td>0.223015</td>\n      <td>-0.912298</td>\n    </tr>\n    <tr>\n      <th>2000-01-02</th>\n      <td>-0.292157</td>\n      <td>0.610064</td>\n    </tr>\n    <tr>\n      <th>2000-01-03</th>\n      <td>1.294542</td>\n      <td>1.000312</td>\n    </tr>\n    <tr>\n      <th>2000-01-04</th>\n      <td>0.526950</td>\n      <td>-1.184784</td>\n    </tr>\n    <tr>\n      <th>2000-01-05</th>\n      <td>0.565327</td>\n      <td>0.872791</td>\n    </tr>\n    <tr>\n      <th>2000-01-06</th>\n      <td>-0.589581</td>\n      <td>0.783803</td>\n    </tr>\n    <tr>\n      <th>2000-01-07</th>\n      <td>-1.400997</td>\n      <td>0.212382</td>\n    </tr>\n    <tr>\n      <th>2000-01-08</th>\n      <td>-0.596046</td>\n      <td>1.174499</td>\n    </tr>\n  </tbody>\n</table>\n</div>"
     },
     "execution_count": 106,
     "metadata": {},
     "output_type": "execute_result"
    }
   ],
   "source": [
    "print(type(['A', 'B']))\n",
    "\n",
    "\n",
    "s = df[['A', 'B']]\n",
    "\n",
    "print(type(s))\n",
    "\n",
    "s"
   ],
   "metadata": {
    "collapsed": false
   }
  },
  {
   "cell_type": "markdown",
   "source": [
    "### Selecting a value in a column\n",
    "\n",
    "We can select a value from a column using `[]` twice. First for the column (`['A']`) and second for the position using the index (`dates[2]`)."
   ],
   "metadata": {
    "collapsed": false
   }
  },
  {
   "cell_type": "code",
   "execution_count": 107,
   "outputs": [
    {
     "name": "stdout",
     "output_type": "stream",
     "text": [
      "<class 'numpy.float64'>\n"
     ]
    },
    {
     "data": {
      "text/plain": "1.29454157529448"
     },
     "execution_count": 107,
     "metadata": {},
     "output_type": "execute_result"
    }
   ],
   "source": [
    "v = df['A'][dates[2]]\n",
    "\n",
    "print(type(v))\n",
    "\n",
    "v"
   ],
   "metadata": {
    "collapsed": false
   }
  },
  {
   "cell_type": "markdown",
   "source": [
    "### loc & iloc\n"
   ],
   "metadata": {
    "collapsed": false
   }
  },
  {
   "cell_type": "code",
   "execution_count": 108,
   "outputs": [
    {
     "data": {
      "text/plain": "    x   y\nA  X1  Y1\nB  X2  Y2\nC  X3  Y3\nD  X4  Y4",
      "text/html": "<div>\n<style scoped>\n    .dataframe tbody tr th:only-of-type {\n        vertical-align: middle;\n    }\n\n    .dataframe tbody tr th {\n        vertical-align: top;\n    }\n\n    .dataframe thead th {\n        text-align: right;\n    }\n</style>\n<table border=\"1\" class=\"dataframe\">\n  <thead>\n    <tr style=\"text-align: right;\">\n      <th></th>\n      <th>x</th>\n      <th>y</th>\n    </tr>\n  </thead>\n  <tbody>\n    <tr>\n      <th>A</th>\n      <td>X1</td>\n      <td>Y1</td>\n    </tr>\n    <tr>\n      <th>B</th>\n      <td>X2</td>\n      <td>Y2</td>\n    </tr>\n    <tr>\n      <th>C</th>\n      <td>X3</td>\n      <td>Y3</td>\n    </tr>\n    <tr>\n      <th>D</th>\n      <td>X4</td>\n      <td>Y4</td>\n    </tr>\n  </tbody>\n</table>\n</div>"
     },
     "execution_count": 108,
     "metadata": {},
     "output_type": "execute_result"
    }
   ],
   "source": [
    "x = pd.DataFrame({'x': ['X1', 'X2', 'X3', 'X4'], 'y': ['Y1', 'Y2', 'Y3', 'Y4']}, index=['A', 'B', 'C', 'D'])\n",
    "\n",
    "x"
   ],
   "metadata": {
    "collapsed": false
   }
  },
  {
   "cell_type": "code",
   "execution_count": 123,
   "outputs": [
    {
     "data": {
      "text/plain": "   A  B  C  D  E\n1  7  5  2  8  3\n0  2  6  4  5  9",
      "text/html": "<div>\n<style scoped>\n    .dataframe tbody tr th:only-of-type {\n        vertical-align: middle;\n    }\n\n    .dataframe tbody tr th {\n        vertical-align: top;\n    }\n\n    .dataframe thead th {\n        text-align: right;\n    }\n</style>\n<table border=\"1\" class=\"dataframe\">\n  <thead>\n    <tr style=\"text-align: right;\">\n      <th></th>\n      <th>A</th>\n      <th>B</th>\n      <th>C</th>\n      <th>D</th>\n      <th>E</th>\n    </tr>\n  </thead>\n  <tbody>\n    <tr>\n      <th>1</th>\n      <td>7</td>\n      <td>5</td>\n      <td>2</td>\n      <td>8</td>\n      <td>3</td>\n    </tr>\n    <tr>\n      <th>0</th>\n      <td>2</td>\n      <td>6</td>\n      <td>4</td>\n      <td>5</td>\n      <td>9</td>\n    </tr>\n  </tbody>\n</table>\n</div>"
     },
     "execution_count": 123,
     "metadata": {},
     "output_type": "execute_result"
    }
   ],
   "source": [
    "x.iloc[1::-1]"
   ],
   "metadata": {
    "collapsed": false
   }
  },
  {
   "cell_type": "code",
   "execution_count": 110,
   "outputs": [
    {
     "data": {
      "text/plain": "x    X2\ny    Y2\nName: B, dtype: object"
     },
     "execution_count": 110,
     "metadata": {},
     "output_type": "execute_result"
    }
   ],
   "source": [
    "x.loc['B']"
   ],
   "metadata": {
    "collapsed": false
   }
  },
  {
   "cell_type": "markdown",
   "source": [
    "## Filtering data"
   ],
   "metadata": {
    "collapsed": false
   }
  },
  {
   "cell_type": "code",
   "execution_count": 111,
   "outputs": [],
   "source": [
    "s = pd.Series(np.random.randint(size=8, low=0, high=10))\n"
   ],
   "metadata": {
    "collapsed": false
   }
  },
  {
   "cell_type": "markdown",
   "source": [
    "### Filtering data using `[]`"
   ],
   "metadata": {
    "collapsed": false
   }
  },
  {
   "cell_type": "code",
   "execution_count": 112,
   "outputs": [
    {
     "data": {
      "text/plain": "2    8\n4    6\n5    6\n6    7\n7    8\ndtype: int64"
     },
     "execution_count": 112,
     "metadata": {},
     "output_type": "execute_result"
    }
   ],
   "source": [
    "s[ s > 3]"
   ],
   "metadata": {
    "collapsed": false
   }
  },
  {
   "cell_type": "markdown",
   "source": [
    "### Filtering data using `where`\n",
    "\n",
    "Using `where` returns a `Series` with the same shape as the origi"
   ],
   "metadata": {
    "collapsed": false
   }
  },
  {
   "cell_type": "code",
   "execution_count": 113,
   "outputs": [
    {
     "data": {
      "text/plain": "0    NaN\n1    NaN\n2    8.0\n3    NaN\n4    6.0\n5    6.0\n6    7.0\n7    8.0\ndtype: float64"
     },
     "execution_count": 113,
     "metadata": {},
     "output_type": "execute_result"
    }
   ],
   "source": [
    "s.where(s > 5)"
   ],
   "metadata": {
    "collapsed": false
   }
  },
  {
   "cell_type": "markdown",
   "source": [
    "### Filtering a `DataFrame` on one column"
   ],
   "metadata": {
    "collapsed": false
   }
  },
  {
   "cell_type": "code",
   "execution_count": 114,
   "outputs": [
    {
     "name": "stdout",
     "output_type": "stream",
     "text": [
      "   A  B  C  D  E\n",
      "0  2  6  4  5  9\n",
      "1  7  5  2  8  3\n",
      "2  3  6  0  8  2\n",
      "3  1  9  3  1  8\n",
      "4  9  1  8  1  1\n"
     ]
    },
    {
     "data": {
      "text/plain": "   A  B  C  D  E\n1  7  5  2  8  3\n2  3  6  0  8  2\n4  9  1  8  1  1",
      "text/html": "<div>\n<style scoped>\n    .dataframe tbody tr th:only-of-type {\n        vertical-align: middle;\n    }\n\n    .dataframe tbody tr th {\n        vertical-align: top;\n    }\n\n    .dataframe thead th {\n        text-align: right;\n    }\n</style>\n<table border=\"1\" class=\"dataframe\">\n  <thead>\n    <tr style=\"text-align: right;\">\n      <th></th>\n      <th>A</th>\n      <th>B</th>\n      <th>C</th>\n      <th>D</th>\n      <th>E</th>\n    </tr>\n  </thead>\n  <tbody>\n    <tr>\n      <th>1</th>\n      <td>7</td>\n      <td>5</td>\n      <td>2</td>\n      <td>8</td>\n      <td>3</td>\n    </tr>\n    <tr>\n      <th>2</th>\n      <td>3</td>\n      <td>6</td>\n      <td>0</td>\n      <td>8</td>\n      <td>2</td>\n    </tr>\n    <tr>\n      <th>4</th>\n      <td>9</td>\n      <td>1</td>\n      <td>8</td>\n      <td>1</td>\n      <td>1</td>\n    </tr>\n  </tbody>\n</table>\n</div>"
     },
     "execution_count": 114,
     "metadata": {},
     "output_type": "execute_result"
    }
   ],
   "source": [
    "x = pd.DataFrame(np.random.randint(low=0, high=10, size=(5, 5)), columns=list('ABCDE'))\n",
    "\n",
    "print(x)\n",
    "\n",
    "x[x['A'] > 2]"
   ],
   "metadata": {
    "collapsed": false
   }
  },
  {
   "cell_type": "markdown",
   "source": [
    "## Manipulating data\n"
   ],
   "metadata": {
    "collapsed": false
   }
  },
  {
   "cell_type": "markdown",
   "source": [
    "## Creating a new column\n",
    "\n",
    "It's possible to create a new column in a `DataFrame`."
   ],
   "metadata": {
    "collapsed": false
   }
  },
  {
   "cell_type": "markdown",
   "source": [
    "### New column is the sum of two existing columns"
   ],
   "metadata": {
    "collapsed": false
   }
  },
  {
   "cell_type": "code",
   "execution_count": 115,
   "outputs": [
    {
     "data": {
      "text/plain": "                   A         B         C         D         E\n2000-01-01  0.223015 -0.912298 -0.376559 -0.031569 -0.689282\n2000-01-02 -0.292157  0.610064 -0.483125  0.664901  0.317907\n2000-01-03  1.294542  1.000312 -1.131279 -1.104787  2.294854\n2000-01-04  0.526950 -1.184784  1.302335  0.477243 -0.657834\n2000-01-05  0.565327  0.872791  0.424215  0.428921  1.438118\n2000-01-06 -0.589581  0.783803 -0.614010  1.552017  0.194222\n2000-01-07 -1.400997  0.212382  0.700763  0.141341 -1.188615\n2000-01-08 -0.596046  1.174499 -0.668839  0.467799  0.578453",
      "text/html": "<div>\n<style scoped>\n    .dataframe tbody tr th:only-of-type {\n        vertical-align: middle;\n    }\n\n    .dataframe tbody tr th {\n        vertical-align: top;\n    }\n\n    .dataframe thead th {\n        text-align: right;\n    }\n</style>\n<table border=\"1\" class=\"dataframe\">\n  <thead>\n    <tr style=\"text-align: right;\">\n      <th></th>\n      <th>A</th>\n      <th>B</th>\n      <th>C</th>\n      <th>D</th>\n      <th>E</th>\n    </tr>\n  </thead>\n  <tbody>\n    <tr>\n      <th>2000-01-01</th>\n      <td>0.223015</td>\n      <td>-0.912298</td>\n      <td>-0.376559</td>\n      <td>-0.031569</td>\n      <td>-0.689282</td>\n    </tr>\n    <tr>\n      <th>2000-01-02</th>\n      <td>-0.292157</td>\n      <td>0.610064</td>\n      <td>-0.483125</td>\n      <td>0.664901</td>\n      <td>0.317907</td>\n    </tr>\n    <tr>\n      <th>2000-01-03</th>\n      <td>1.294542</td>\n      <td>1.000312</td>\n      <td>-1.131279</td>\n      <td>-1.104787</td>\n      <td>2.294854</td>\n    </tr>\n    <tr>\n      <th>2000-01-04</th>\n      <td>0.526950</td>\n      <td>-1.184784</td>\n      <td>1.302335</td>\n      <td>0.477243</td>\n      <td>-0.657834</td>\n    </tr>\n    <tr>\n      <th>2000-01-05</th>\n      <td>0.565327</td>\n      <td>0.872791</td>\n      <td>0.424215</td>\n      <td>0.428921</td>\n      <td>1.438118</td>\n    </tr>\n    <tr>\n      <th>2000-01-06</th>\n      <td>-0.589581</td>\n      <td>0.783803</td>\n      <td>-0.614010</td>\n      <td>1.552017</td>\n      <td>0.194222</td>\n    </tr>\n    <tr>\n      <th>2000-01-07</th>\n      <td>-1.400997</td>\n      <td>0.212382</td>\n      <td>0.700763</td>\n      <td>0.141341</td>\n      <td>-1.188615</td>\n    </tr>\n    <tr>\n      <th>2000-01-08</th>\n      <td>-0.596046</td>\n      <td>1.174499</td>\n      <td>-0.668839</td>\n      <td>0.467799</td>\n      <td>0.578453</td>\n    </tr>\n  </tbody>\n</table>\n</div>"
     },
     "execution_count": 115,
     "metadata": {},
     "output_type": "execute_result"
    }
   ],
   "source": [
    "df['E'] = df['A'] + df['B']\n",
    "\n",
    "df"
   ],
   "metadata": {
    "collapsed": false
   }
  },
  {
   "cell_type": "markdown",
   "source": [
    "### New column is an aggregation of values in same row\n",
    "\n",
    "Here we need to specify the `axis` for the aggregation.\n"
   ],
   "metadata": {
    "collapsed": false
   }
  },
  {
   "cell_type": "code",
   "execution_count": 116,
   "outputs": [
    {
     "data": {
      "text/plain": "                   A         B         C         D         E       min\n2000-01-01  0.223015 -0.912298 -0.376559 -0.031569 -0.689282 -0.912298\n2000-01-02 -0.292157  0.610064 -0.483125  0.664901  0.317907 -0.483125\n2000-01-03  1.294542  1.000312 -1.131279 -1.104787  2.294854 -1.131279\n2000-01-04  0.526950 -1.184784  1.302335  0.477243 -0.657834 -1.184784\n2000-01-05  0.565327  0.872791  0.424215  0.428921  1.438118  0.424215\n2000-01-06 -0.589581  0.783803 -0.614010  1.552017  0.194222 -0.614010\n2000-01-07 -1.400997  0.212382  0.700763  0.141341 -1.188615 -1.400997\n2000-01-08 -0.596046  1.174499 -0.668839  0.467799  0.578453 -0.668839",
      "text/html": "<div>\n<style scoped>\n    .dataframe tbody tr th:only-of-type {\n        vertical-align: middle;\n    }\n\n    .dataframe tbody tr th {\n        vertical-align: top;\n    }\n\n    .dataframe thead th {\n        text-align: right;\n    }\n</style>\n<table border=\"1\" class=\"dataframe\">\n  <thead>\n    <tr style=\"text-align: right;\">\n      <th></th>\n      <th>A</th>\n      <th>B</th>\n      <th>C</th>\n      <th>D</th>\n      <th>E</th>\n      <th>min</th>\n    </tr>\n  </thead>\n  <tbody>\n    <tr>\n      <th>2000-01-01</th>\n      <td>0.223015</td>\n      <td>-0.912298</td>\n      <td>-0.376559</td>\n      <td>-0.031569</td>\n      <td>-0.689282</td>\n      <td>-0.912298</td>\n    </tr>\n    <tr>\n      <th>2000-01-02</th>\n      <td>-0.292157</td>\n      <td>0.610064</td>\n      <td>-0.483125</td>\n      <td>0.664901</td>\n      <td>0.317907</td>\n      <td>-0.483125</td>\n    </tr>\n    <tr>\n      <th>2000-01-03</th>\n      <td>1.294542</td>\n      <td>1.000312</td>\n      <td>-1.131279</td>\n      <td>-1.104787</td>\n      <td>2.294854</td>\n      <td>-1.131279</td>\n    </tr>\n    <tr>\n      <th>2000-01-04</th>\n      <td>0.526950</td>\n      <td>-1.184784</td>\n      <td>1.302335</td>\n      <td>0.477243</td>\n      <td>-0.657834</td>\n      <td>-1.184784</td>\n    </tr>\n    <tr>\n      <th>2000-01-05</th>\n      <td>0.565327</td>\n      <td>0.872791</td>\n      <td>0.424215</td>\n      <td>0.428921</td>\n      <td>1.438118</td>\n      <td>0.424215</td>\n    </tr>\n    <tr>\n      <th>2000-01-06</th>\n      <td>-0.589581</td>\n      <td>0.783803</td>\n      <td>-0.614010</td>\n      <td>1.552017</td>\n      <td>0.194222</td>\n      <td>-0.614010</td>\n    </tr>\n    <tr>\n      <th>2000-01-07</th>\n      <td>-1.400997</td>\n      <td>0.212382</td>\n      <td>0.700763</td>\n      <td>0.141341</td>\n      <td>-1.188615</td>\n      <td>-1.400997</td>\n    </tr>\n    <tr>\n      <th>2000-01-08</th>\n      <td>-0.596046</td>\n      <td>1.174499</td>\n      <td>-0.668839</td>\n      <td>0.467799</td>\n      <td>0.578453</td>\n      <td>-0.668839</td>\n    </tr>\n  </tbody>\n</table>\n</div>"
     },
     "execution_count": 116,
     "metadata": {},
     "output_type": "execute_result"
    }
   ],
   "source": [
    "df['min'] = df.min(axis=1)\n",
    "\n",
    "df"
   ],
   "metadata": {
    "collapsed": false
   }
  },
  {
   "cell_type": "markdown",
   "source": [
    "## Inverting columns"
   ],
   "metadata": {
    "collapsed": false
   }
  },
  {
   "cell_type": "code",
   "execution_count": 117,
   "outputs": [],
   "source": [
    "df[['A', 'B']] = df[['A', 'B']]"
   ],
   "metadata": {
    "collapsed": false
   }
  }
 ],
 "metadata": {
  "kernelspec": {
   "display_name": "Python 3",
   "language": "python",
   "name": "python3"
  },
  "language_info": {
   "codemirror_mode": {
    "name": "ipython",
    "version": 2
   },
   "file_extension": ".py",
   "mimetype": "text/x-python",
   "name": "python",
   "nbconvert_exporter": "python",
   "pygments_lexer": "ipython2",
   "version": "2.7.6"
  }
 },
 "nbformat": 4,
 "nbformat_minor": 0
}
